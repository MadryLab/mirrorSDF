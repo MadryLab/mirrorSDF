{
 "cells": [
  {
   "cell_type": "markdown",
   "id": "41c9cc16",
   "metadata": {},
   "source": [
    "# 6 - Generation of the Diffuse Irradiance Dataset\n",
    "\n",
    "## Motivation\n",
    "\n",
    "### The need for a simpler environment model\n",
    "\n",
    "Until now we fitted a relatively high fidelity model of our environment. The problem is that to leverage it to light materials it is way too expensive to be useful.\n",
    "\n",
    "We will therefore fit an approximate model, that requires a single call per ray instead of integrating along it). The model will be able to generate specular lighting information or diffuse (pre-integrated over the hemisphere) for the fast evaluation of BSDFs.\n",
    "\n",
    "### The procedure\n",
    "\n",
    "The idea is to do model distillation from our expensive NeRF into a smaller, single query model.\n",
    "\n",
    "Computing a diffuse irradiance map is very compute intensive, therefore it is not advisable\n",
    "to generate the data at the same time as we train the EnvNet model. It is better to do it offline first and then quickly train the model on the generated dataset.\n",
    "\n",
    "Let's do that:\n",
    "\n",
    "## Generating the dataset\n",
    "\n",
    "We have a script that given a config file will generate the dataset in the `root_folder` of the project.\n",
    "\n",
    "```python -m mirrorSDF.scripts.generate_diffuse_irradiance -c YOUR_GLOBAL_CONFIG_FILE.json```\n",
    "\n",
    "as usual you can override any settings, either in your config file directly or in the cli. For example:\n",
    "\n",
    "```python -m mirrorSDF.scripts.generate_diffuse_irradiance -c YOUR_GLOBAL_CONFIG_FILE.json -o diffuse_irradiance.num_viewpoints_per_env=200```\n"
   ]
  }
 ],
 "metadata": {
  "kernelspec": {
   "display_name": "Python 3 (ipykernel)",
   "language": "python",
   "name": "python3"
  },
  "language_info": {
   "codemirror_mode": {
    "name": "ipython",
    "version": 3
   },
   "file_extension": ".py",
   "mimetype": "text/x-python",
   "name": "python",
   "nbconvert_exporter": "python",
   "pygments_lexer": "ipython3",
   "version": "3.10.9"
  }
 },
 "nbformat": 4,
 "nbformat_minor": 5
}
