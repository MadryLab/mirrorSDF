{
 "cells": [
  {
   "cell_type": "markdown",
   "id": "daaea680",
   "metadata": {},
   "source": [
    "# 5 - Modeling the environment/background\n",
    "\n",
    "## Motivation\n",
    "\n",
    "To generate renders and make reconstructions in the scene we capture our pictures in we furst need to model the environment with full dynamic range so that we can predict exactly the amount of light coming in any direction at any point in space.\n",
    "\n",
    "## Method\n",
    "\n",
    "To do so we will use a modified NeRF such that we can model the bounces on the mirror and have inifinite dynamic range\n",
    "\n",
    "\n",
    "## Running the training\n",
    "\n",
    "Assuming you have followed the tutorial until now you should be able to start training with the appropriate script\n",
    "\n",
    "```bash\n",
    "python -m mirrorSDF.scripts.train_background -c YOUR_GLOBAL_CONFIG_FILE\n",
    "```\n",
    "\n",
    "as usual you can override any settings, either in your config file directly or in the cli. For example:\n",
    "\n",
    "```bash\n",
    "python -m mirrorSDF.scripts.train_background -c YOUR_GLOBAL_CONFIG_FILE.json -o background_training.num_workers=15\n",
    "```\n"
   ]
  }
 ],
 "metadata": {
  "kernelspec": {
   "display_name": "Python 3 (ipykernel)",
   "language": "python",
   "name": "python3"
  },
  "language_info": {
   "codemirror_mode": {
    "name": "ipython",
    "version": 3
   },
   "file_extension": ".py",
   "mimetype": "text/x-python",
   "name": "python",
   "nbconvert_exporter": "python",
   "pygments_lexer": "ipython3",
   "version": "3.10.9"
  }
 },
 "nbformat": 4,
 "nbformat_minor": 5
}
