{
 "cells": [
  {
   "cell_type": "markdown",
   "id": "19f42bc6",
   "metadata": {},
   "source": [
    "# 7 - Pre-computing Background\n",
    "\n",
    "## Motivation\n",
    "\n",
    "Our next step will be to learn the shape and material of our object. We will try to fit a model that is able to explain the pictures we took. The output of our model will be an overlay of our the object we are reconstructing over the background.\n",
    "\n",
    "Since we already trained the background mode independently, it would be a waste of resources to re-evaluate it at each ray. Instead, what we will do here is to pre-compute the predictions of the model with high quality (spp) and store them for the training of the object.\n",
    "\n",
    "## Generating the dataset\n",
    "\n",
    "We have a script that given a config file will pre compute the background in the `root_folder` of the project.\n",
    "\n",
    "```python -m mirrorSDF.scripts.precompute_background -c YOUR_GLOBAL_CONFIG_FILE.json```\n",
    "\n",
    "as usual you can override any settings, either in your config file directly or in the cli. For example:\n",
    "\n",
    "```python -m mirrorSDF.scripts.precompute_background -c YOUR_GLOBAL_CONFIG_FILE.json -o validation.batch_size=2048```\n"
   ]
  }
 ],
 "metadata": {
  "kernelspec": {
   "display_name": "Python 3 (ipykernel)",
   "language": "python",
   "name": "python3"
  },
  "language_info": {
   "codemirror_mode": {
    "name": "ipython",
    "version": 3
   },
   "file_extension": ".py",
   "mimetype": "text/x-python",
   "name": "python",
   "nbconvert_exporter": "python",
   "pygments_lexer": "ipython3",
   "version": "3.10.9"
  }
 },
 "nbformat": 4,
 "nbformat_minor": 5
}
