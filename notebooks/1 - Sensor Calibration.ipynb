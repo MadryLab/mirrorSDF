{
 "cells": [
  {
   "cell_type": "code",
   "execution_count": 1,
   "id": "32312238",
   "metadata": {},
   "outputs": [],
   "source": [
    "%load_ext autoreload\n",
    "%autoreload 2"
   ]
  },
  {
   "cell_type": "markdown",
   "id": "54ab606b",
   "metadata": {},
   "source": [
    "# Sensor Calibration\n",
    "\n",
    "The goal here is to fit the response function of the sensor your camera uses. This is needed so that we are able to obtain linear measurement for further processing of the images\n",
    "\n",
    "## Background\n",
    "\n",
    "This is a modern implementation of https://www.pauldebevec.com/Research/HDR/debevec-siggraph97.pdf\n",
    "It has been made to work with high-bit depth sensors. The original paper struggles with more than 8. \n",
    "\n",
    "## Setup\n",
    "\n",
    "The goal is to put your camera on a tripod and take many pictures of the same scene at different exposure times. See the paper for more details but 15-20 images should be good, but I personally run it on up to 50 with 1/3 stop in between to really have good data.\n",
    "Try to aim for a scene for with of each colors so that we can calibrate each channel. Try to avoid scenes with too much high dynamic range as most pixels will only have saturated pixels otherwise\n",
    "\n",
    "### Settings\n",
    "\n",
    "Enter your information below (should be self explanatory)"
   ]
  },
  {
   "cell_type": "code",
   "execution_count": 2,
   "id": "8ff67966",
   "metadata": {},
   "outputs": [],
   "source": [
    "IMAGE_FOLDER = '/data/keoscope/calibration_R6mk2/sensor_measurements'\n",
    "OUTPUT_CALIBRATION_FILE = '/data/keoscope/calibration_R6mk2/sensor_response.npy'\n",
    "IMAGE_EXTENSION = 'CR3'\n",
    "NUM_ITERS = 150\n",
    "BATCH_SIZE = 30_000"
   ]
  },
  {
   "cell_type": "markdown",
   "id": "7c72ca45",
   "metadata": {},
   "source": [
    "### Imports"
   ]
  },
  {
   "cell_type": "code",
   "execution_count": 3,
   "id": "bcdb22e3",
   "metadata": {},
   "outputs": [
    {
     "name": "stderr",
     "output_type": "stream",
     "text": [
      "/home/guillaumeleclerc/mirrorSDF/mirrorSDF/optical_models/sensor/rgb_image_sensor.py:3: TqdmExperimentalWarning: Using `tqdm.autonotebook.tqdm` in notebook mode. Use `tqdm.tqdm` instead to force console mode (e.g. in jupyter console)\n",
      "  from tqdm.autonotebook import tqdm\n"
     ]
    }
   ],
   "source": [
    "from glob import glob\n",
    "from os import path, makedirs\n",
    "from tqdm import tqdm\n",
    "import numpy as np\n",
    "import matplotlib.pyplot as plt\n",
    "\n",
    "from mirrorSDF.utils.image import imread\n",
    "from mirrorSDF.optical_models import RGBImageSensor"
   ]
  },
  {
   "cell_type": "markdown",
   "id": "972d5306",
   "metadata": {},
   "source": [
    "### Loading Images"
   ]
  },
  {
   "cell_type": "code",
   "execution_count": 4,
   "id": "81d9c10e",
   "metadata": {},
   "outputs": [
    {
     "name": "stderr",
     "output_type": "stream",
     "text": [
      "100%|███████████████████████████████████████████████████████████████████████████████████████████████████████| 34/34 [00:24<00:00,  1.40it/s]\n"
     ]
    }
   ],
   "source": [
    "image_filenames = glob(path.join(IMAGE_FOLDER, f'*.{IMAGE_EXTENSION}'))\n",
    "loaded_images, exposures = zip(*[imread(file_name) for file_name in tqdm(image_filenames)])\n",
    "loaded_images = np.stack(loaded_images, 2)\n",
    "exposures = np.array(exposures)\n",
    "\n",
    "if len(set(exposures.tolist())) != len(exposures):\n",
    "    raise ValueError('Images with identical Exposures!')"
   ]
  },
  {
   "cell_type": "markdown",
   "id": "32045104",
   "metadata": {},
   "source": [
    "### Fitting the sensor response\n",
    "\n",
    "Best if your loss is around 1e-5, but that's probably not super critical. You might require a good camera and a lot of shots to achieve this accuracy. One should expect a lower loss for the green channel as most sensors have twice as many green pixels as red or blues. This is a good sanity check to know that it worked well."
   ]
  },
  {
   "cell_type": "code",
   "execution_count": 5,
   "id": "38c2ca6c",
   "metadata": {},
   "outputs": [
    {
     "data": {
      "application/vnd.jupyter.widget-view+json": {
       "model_id": "12e6305a69d849cb933f94eb2202871b",
       "version_major": 2,
       "version_minor": 0
      },
      "text/plain": [
       "Calibrating channels:   0%|          | 0/3 [00:00<?, ?it/s]"
      ]
     },
     "metadata": {},
     "output_type": "display_data"
    },
    {
     "data": {
      "application/vnd.jupyter.widget-view+json": {
       "model_id": "7526d50f66834644ac5d995f755b081d",
       "version_major": 2,
       "version_minor": 0
      },
      "text/plain": [
       "Calibrating:   0%|          | 0/150 [00:00<?, ?it/s]"
      ]
     },
     "metadata": {},
     "output_type": "display_data"
    },
    {
     "data": {
      "application/vnd.jupyter.widget-view+json": {
       "model_id": "aa6cd49d45e844dd85a2e0c946e8a45a",
       "version_major": 2,
       "version_minor": 0
      },
      "text/plain": [
       "Calibrating:   0%|          | 0/150 [00:00<?, ?it/s]"
      ]
     },
     "metadata": {},
     "output_type": "display_data"
    },
    {
     "data": {
      "application/vnd.jupyter.widget-view+json": {
       "model_id": "cbd6fad2c4014f1eb1144b3e37bfae1b",
       "version_major": 2,
       "version_minor": 0
      },
      "text/plain": [
       "Calibrating:   0%|          | 0/150 [00:00<?, ?it/s]"
      ]
     },
     "metadata": {},
     "output_type": "display_data"
    }
   ],
   "source": [
    "sensor = RGBImageSensor.calibrate_from_measurements(loaded_images, exposures,\n",
    "                                                    n_iterations=NUM_ITERS, batch_size=BATCH_SIZE)\n",
    "response_red, response_green, response_blue = sensor.curves"
   ]
  },
  {
   "cell_type": "code",
   "execution_count": 6,
   "id": "5b3d1b9a",
   "metadata": {},
   "outputs": [
    {
     "data": {
      "text/plain": [
       "<matplotlib.legend.Legend at 0x7f2a14a07340>"
      ]
     },
     "execution_count": 6,
     "metadata": {},
     "output_type": "execute_result"
    },
    {
     "data": {
      "image/png": "[encoded data removed]",
      "text/plain": [
       "<Figure size 432x288 with 1 Axes>"
      ]
     },
     "metadata": {
      "needs_background": "light"
     },
     "output_type": "display_data"
    }
   ],
   "source": [
    "plt.plot(response_red, color='#F00', label='red')\n",
    "plt.plot(response_green, color='#0F0', label='green')\n",
    "plt.plot(response_blue, color='#00F', label='blue')\n",
    "plt.title('Inverse Sensor response for each channel')\n",
    "plt.ylabel('Normalized esimated Radiance')\n",
    "plt.xlabel('Pixel value')\n",
    "plt.grid()\n",
    "plt.ylim(0, 2)\n",
    "plt.legend()"
   ]
  },
  {
   "cell_type": "markdown",
   "id": "99ec41a1",
   "metadata": {},
   "source": [
    "### Writing the sensor calibration"
   ]
  },
  {
   "cell_type": "code",
   "execution_count": 7,
   "id": "7a2a6260",
   "metadata": {},
   "outputs": [],
   "source": [
    "makedirs(path.dirname(OUTPUT_CALIBRATION_FILE), exist_ok=True)\n",
    "sensor.to_disk(OUTPUT_CALIBRATION_FILE)"
   ]
  }
 ],
 "metadata": {
  "kernelspec": {
   "display_name": "Python 3 (ipykernel)",
   "language": "python",
   "name": "python3"
  },
  "language_info": {
   "codemirror_mode": {
    "name": "ipython",
    "version": 3
   },
   "file_extension": ".py",
   "mimetype": "text/x-python",
   "name": "python",
   "nbconvert_exporter": "python",
   "pygments_lexer": "ipython3",
   "version": "3.10.9"
  }
 },
 "nbformat": 4,
 "nbformat_minor": 5
}
